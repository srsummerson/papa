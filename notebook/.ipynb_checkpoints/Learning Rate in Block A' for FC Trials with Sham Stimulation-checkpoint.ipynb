{
 "metadata": {
  "name": "",
  "signature": "sha256:a0b59255831faf0f7e6b4b501334387032a13e1a1a095854864aefb78d858e88"
 },
 "nbformat": 3,
 "nbformat_minor": 0,
 "worksheets": [
  {
   "cells": [
    {
     "cell_type": "heading",
     "level": 4,
     "metadata": {},
     "source": [
      "Uses data from Feb 10 - March 9.  Data from March 1 and 5 seems to be an outlier - slope is negative which is odd."
     ]
    },
    {
     "cell_type": "code",
     "collapsed": false,
     "input": [
      "cd C:\\Users\\Samantha\\Dropbox\\Carmena Lab\\Papa\\hdf"
     ],
     "language": "python",
     "metadata": {},
     "outputs": [
      {
       "output_type": "stream",
       "stream": "stdout",
       "text": [
        "C:\\Users\\Samantha\\Dropbox\\Carmena Lab\\Papa\\hdf\n"
       ]
      }
     ],
     "prompt_number": 1
    },
    {
     "cell_type": "code",
     "collapsed": false,
     "input": [
      "%pylab inline\n",
      "import numpy as np\n",
      "import statsmodels.api as sm\n",
      "import scipy\n",
      "from scipy import stats\n",
      "import matplotlib.pyplot as plt\n",
      "import tables\n",
      "from pylab import rcParams\n",
      "import pandas as pd\n",
      "from patsy import dmatrices\n",
      "from sklearn.linear_model import LogisticRegression"
     ],
     "language": "python",
     "metadata": {},
     "outputs": [
      {
       "output_type": "stream",
       "stream": "stdout",
       "text": [
        "Populating the interactive namespace from numpy and matplotlib\n"
       ]
      }
     ],
     "prompt_number": 2
    },
    {
     "cell_type": "code",
     "collapsed": false,
     "input": [
      "hdf_list = ['papa20150213_10.hdf','papa20150217_05.hdf','papa20150225_02.hdf','papa20150301_02.hdf','papa20150305_02.hdf',\n",
      "            'papa20150307_02.hdf','papa20150308_06.hdf','papa20150310_02.hdf']\n",
      "\n",
      "counter_name = 0\n",
      "gradient = zeros(len(hdf_list))\n",
      "intercept = zeros(len(hdf_list))\n",
      "r_value = zeros(len(hdf_list))\n",
      "p_value = zeros(len(hdf_list))\n",
      "std_err = zeros(len(hdf_list))\n",
      "\n",
      "for name in hdf_list:\n",
      "    hdf = tables.openFile(name)\n",
      "\n",
      "    # states\n",
      "    state = hdf.root.task_msgs[:]['msg']\n",
      "    state_time = hdf.root.task_msgs[:]['time']\n",
      "    # target info: (offset, probability of reward, left/right)\n",
      "    targetH = hdf.root.task[:]['targetH']\n",
      "    targetL = hdf.root.task[:]['targetL']\n",
      "    # reward schedules\n",
      "    reward_scheduleH = hdf.root.task[:]['reward_scheduleH']\n",
      "    reward_scheduleL = hdf.root.task[:]['reward_scheduleL']\n",
      "    # instructed (1) or free-choice (2) trial \n",
      "    trial_type = hdf.root.task[:]['target_index']\n",
      "\n",
      "    ind_wait_states = np.ravel(np.nonzero(state == 'wait'))\n",
      "    ind_target_states = np.ravel(np.nonzero(state == 'target'))\n",
      "    ind_check_reward_states = np.ravel(np.nonzero(state == 'check_reward'))\n",
      "    num_successful_trials = ind_check_reward_states.size\n",
      "    target_times = state_time[ind_target_states]\n",
      "    # creates vector same size of state vectors for comparison. instructed (0) and free-choice (1)\n",
      "    instructed_or_freechoice = trial_type[state_time[ind_check_reward_states]]  \n",
      "    num_free_choice_trials = sum(instructed_or_freechoice) - num_successful_trials\n",
      "    \n",
      "    # creates vector of same size of target info: maxtrix of num_successful_trials x 3; (position_offset, reward_prob, left0/right1)\n",
      "    targetH_info = targetH[state_time[ind_target_states]]\n",
      "    targetL_info = targetL[state_time[ind_target_states]]\n",
      "    choices = zeros(71)\n",
      "    counter = 0\n",
      "\n",
      "    for i in range(200,300):\n",
      "        target_state = state[ind_check_reward_states[i] - 2]\n",
      "        trial = instructed_or_freechoice[i]\n",
      "        if trial == 2:  # only free-choice trials \n",
      "            if (target_state == 'hold_targetL'):\n",
      "                choices[counter] = (counter > 0)*choices[counter-1] - 1\n",
      "            else:\n",
      "                choices[counter] = (counter > 0)*choices[counter-1] + 1\n",
      "            counter += 1\n",
      "    print counter        \n",
      "    x = range(0,counter)\n",
      "    gradient[counter_name], intercept[counter_name], r_value[counter_name], p_value[counter_name], std_err[counter_name] = stats.linregress(x,choices[0:counter])\n",
      "    \n",
      "    counter_name += 1\n"
     ],
     "language": "python",
     "metadata": {},
     "outputs": [
      {
       "output_type": "stream",
       "stream": "stdout",
       "text": [
        "69\n",
        "69"
       ]
      },
      {
       "output_type": "stream",
       "stream": "stdout",
       "text": [
        "\n",
        "69"
       ]
      },
      {
       "output_type": "stream",
       "stream": "stdout",
       "text": [
        "\n",
        "69"
       ]
      },
      {
       "output_type": "stream",
       "stream": "stdout",
       "text": [
        "\n",
        "69"
       ]
      },
      {
       "output_type": "stream",
       "stream": "stdout",
       "text": [
        "\n",
        "69"
       ]
      },
      {
       "output_type": "stream",
       "stream": "stdout",
       "text": [
        "\n",
        "70"
       ]
      },
      {
       "output_type": "stream",
       "stream": "stdout",
       "text": [
        "\n",
        "69"
       ]
      },
      {
       "output_type": "stream",
       "stream": "stdout",
       "text": [
        "\n"
       ]
      }
     ],
     "prompt_number": 3
    },
    {
     "cell_type": "code",
     "collapsed": false,
     "input": [
      "y = gradient[counter_name-1]*ones(len(x))*x + intercept[counter_name-1]*ones(len(x))"
     ],
     "language": "python",
     "metadata": {},
     "outputs": [],
     "prompt_number": 4
    },
    {
     "cell_type": "code",
     "collapsed": false,
     "input": [
      "y_total = zeros(len(x))\n",
      "for i in range(0,counter_name):\n",
      "    y = gradient[i]*ones(len(x))*x + intercept[i]*ones(len(x))\n",
      "    y_total = y_total + y\n",
      "    plot(x,y)\n",
      "\n",
      "y_total = y_total/(counter_name-1)\n",
      "figure()\n",
      "plot(x,y_total)"
     ],
     "language": "python",
     "metadata": {},
     "outputs": [
      {
       "metadata": {},
       "output_type": "pyout",
       "prompt_number": 5,
       "text": [
        "[<matplotlib.lines.Line2D at 0xc2bbe70>]"
       ]
      },
      {
       "metadata": {},
       "output_type": "display_data",
       "png": "[encoded data removed]",
       "text": [
        "<matplotlib.figure.Figure at 0x856cd90>"
       ]
      },
      {
       "metadata": {},
       "output_type": "display_data",
       "png": "[encoded data removed]",
       "text": [
        "<matplotlib.figure.Figure at 0x856cd50>"
       ]
      }
     ],
     "prompt_number": 5
    },
    {
     "cell_type": "code",
     "collapsed": false,
     "input": [
      "gradient"
     ],
     "language": "python",
     "metadata": {},
     "outputs": [
      {
       "metadata": {},
       "output_type": "pyout",
       "prompt_number": 6,
       "text": [
        "array([ 1.        ,  0.88279138,  0.7777859 , -0.13277311, -0.25217391,\n",
        "        1.        ,  0.96136821,  0.88081841])"
       ]
      }
     ],
     "prompt_number": 6
    },
    {
     "cell_type": "code",
     "collapsed": false,
     "input": [
      "mean(gradient)"
     ],
     "language": "python",
     "metadata": {},
     "outputs": [
      {
       "metadata": {},
       "output_type": "pyout",
       "prompt_number": 7,
       "text": [
        "0.63972710945982802"
       ]
      }
     ],
     "prompt_number": 7
    },
    {
     "cell_type": "markdown",
     "metadata": {},
     "source": []
    }
   ],
   "metadata": {}
  }
 ]
}